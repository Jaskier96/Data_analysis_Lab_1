{
 "cells": [
  {
   "cell_type": "code",
   "execution_count": 1,
   "metadata": {},
   "outputs": [],
   "source": [
    "from cmdstanpy import CmdStanModel\n",
    "\n",
    "import arviz as az\n",
    "import numpy as np\n",
    "import scipy.stats as stats\n",
    "\n",
    "import matplotlib.pyplot as plt\n",
    "import pandas as pd"
   ]
  },
  {
   "cell_type": "code",
   "execution_count": 7,
   "metadata": {},
   "outputs": [
    {
     "name": "stderr",
     "output_type": "stream",
     "text": [
      "INFO:cmdstanpy:compiling stan file C:\\Users\\Jaskier-PC\\Desktop\\semestr8\\Data_analysis\\Lab4\\generate_data.stan to exe file C:\\Users\\Jaskier-PC\\Desktop\\semestr8\\Data_analysis\\Lab4\\generate_data.exe\n",
      "INFO:cmdstanpy:compiled model executable: C:\\Users\\Jaskier-PC\\Desktop\\semestr8\\Data_analysis\\Lab4\\generate_data.exe\n"
     ]
    }
   ],
   "source": [
    "data_generator = CmdStanModel(stan_file = r'C:\\Users\\Jaskier-PC\\Desktop\\semestr8\\Data_analysis\\Lab4\\generate_data.stan')"
   ]
  },
  {
   "cell_type": "code",
   "execution_count": 8,
   "metadata": {},
   "outputs": [
    {
     "name": "stdout",
     "output_type": "stream",
     "text": [
      "14082705\n"
     ]
    },
    {
     "name": "stderr",
     "output_type": "stream",
     "text": [
      "INFO:cmdstanpy:CmdStan start procesing\n",
      "chain 1 |\u001b[34m██████████\u001b[0m| 00:00 Sampling completed"
     ]
    },
    {
     "name": "stdout",
     "output_type": "stream",
     "text": [
      "                                                                                "
     ]
    },
    {
     "name": "stderr",
     "output_type": "stream",
     "text": [
      "\n",
      "INFO:cmdstanpy:CmdStan done processing.\n"
     ]
    },
    {
     "name": "stdout",
     "output_type": "stream",
     "text": [
      "\n"
     ]
    }
   ],
   "source": [
    "I = 7 #Bartosz\n",
    "N = 6 #Trynda\n",
    "DoB = 14071999\n",
    "seed = int(DoB+1e4+100*I+N)\n",
    "print(seed)\n",
    "generated_data = data_generator.sample(chains=1, iter_sampling=1, iter_warmup=0, fixed_param=True, seed=seed)"
   ]
  },
  {
   "cell_type": "code",
   "execution_count": 10,
   "metadata": {},
   "outputs": [
    {
     "data": {
      "text/plain": [
       "<matplotlib.patches.StepPatch at 0x2637f953ac0>"
      ]
     },
     "execution_count": 10,
     "metadata": {},
     "output_type": "execute_result"
    },
    {
     "data": {
      "image/png": "[encoded data removed]",
      "text/plain": [
       "<Figure size 432x288 with 1 Axes>"
      ]
     },
     "metadata": {
      "needs_background": "light"
     },
     "output_type": "display_data"
    }
   ],
   "source": [
    "beta_s = generated_data.stan_variable('beta')\n",
    "plt.stairs(generated_data.stan_variable('beta')[0])"
   ]
  },
  {
   "cell_type": "code",
   "execution_count": 12,
   "metadata": {},
   "outputs": [
    {
     "name": "stderr",
     "output_type": "stream",
     "text": [
      "INFO:cmdstanpy:compiling stan file C:\\Users\\Jaskier-PC\\Desktop\\semestr8\\Data_analysis\\Lab4\\model1.stan to exe file C:\\Users\\Jaskier-PC\\Desktop\\semestr8\\Data_analysis\\Lab4\\model1.exe\n",
      "INFO:cmdstanpy:compiled model executable: C:\\Users\\Jaskier-PC\\Desktop\\semestr8\\Data_analysis\\Lab4\\model1.exe\n"
     ]
    }
   ],
   "source": [
    "model_uniform = CmdStanModel(stan_file = r'C:\\Users\\Jaskier-PC\\Desktop\\semestr8\\Data_analysis\\Lab4\\model1.stan')"
   ]
  },
  {
   "cell_type": "code",
   "execution_count": 13,
   "metadata": {},
   "outputs": [],
   "source": [
    "data_for_inference = {'N':100,\n",
    "                      'M':200,\n",
    "                      'X':generated_data.stan_variable('X')[0],\n",
    "                      'y': generated_data.stan_variable('y')[0]\n",
    "                      }"
   ]
  },
  {
   "cell_type": "code",
   "execution_count": 14,
   "metadata": {},
   "outputs": [
    {
     "name": "stderr",
     "output_type": "stream",
     "text": [
      "INFO:cmdstanpy:CmdStan start procesing\n",
      "chain 1 |\u001b[33m          \u001b[0m| 00:00 Status\n",
      "\u001b[A\n",
      "\n",
      "chain 1 |\u001b[33m▍         \u001b[0m| 00:00 Status\n",
      "\n",
      "\u001b[A\u001b[A\n",
      "chain 1 |\u001b[33m▉         \u001b[0m| 00:02 Iteration:    1 / 2000 [  0%]  (Warmup)\n",
      "\n",
      "\u001b[A\u001b[A\n",
      "\u001b[A\n",
      "\n",
      "chain 1 |\u001b[33m█▎        \u001b[0m| 00:05 Iteration:  100 / 2000 [  5%]  (Warmup)\n",
      "\u001b[A\n",
      "\n",
      "chain 1 |\u001b[33m█▊        \u001b[0m| 00:08 Iteration:  200 / 2000 [ 10%]  (Warmup)\n",
      "\u001b[A\n",
      "\n",
      "chain 1 |\u001b[33m██▎       \u001b[0m| 00:11 Iteration:  300 / 2000 [ 15%]  (Warmup)\n",
      "\u001b[A\n",
      "\n",
      "chain 1 |\u001b[33m██▋       \u001b[0m| 00:13 Iteration:  400 / 2000 [ 20%]  (Warmup)\n",
      "\u001b[A\n",
      "\n",
      "chain 1 |\u001b[33m███▏      \u001b[0m| 00:16 Iteration:  500 / 2000 [ 25%]  (Warmup)\n",
      "\u001b[A\n",
      "\n",
      "chain 1 |\u001b[33m███▋      \u001b[0m| 00:19 Iteration:  600 / 2000 [ 30%]  (Warmup)\n",
      "\u001b[A\n",
      "\n",
      "chain 1 |\u001b[33m████      \u001b[0m| 00:22 Iteration:  700 / 2000 [ 35%]  (Warmup)\n",
      "\u001b[A\n",
      "\n",
      "chain 1 |\u001b[33m████▌     \u001b[0m| 00:25 Iteration:  800 / 2000 [ 40%]  (Warmup)\n",
      "\u001b[A\n",
      "\n",
      "\u001b[A\u001b[A\n",
      "chain 1 |\u001b[33m█████     \u001b[0m| 00:28 Iteration:  900 / 2000 [ 45%]  (Warmup)\n",
      "\n",
      "\u001b[A\u001b[A\n",
      "chain 1 |\u001b[34m█████▉    \u001b[0m| 00:31 Iteration: 1001 / 2000 [ 50%]  (Sampling)\n",
      "\u001b[A\n",
      "\n",
      "chain 1 |\u001b[34m██████▎   \u001b[0m| 00:34 Iteration: 1100 / 2000 [ 55%]  (Sampling)\n",
      "\u001b[A\n",
      "\n",
      "chain 1 |\u001b[34m██████▊   \u001b[0m| 00:37 Iteration: 1200 / 2000 [ 60%]  (Sampling)\n",
      "\n",
      "\u001b[A\u001b[A\n",
      "chain 1 |\u001b[34m███████▎  \u001b[0m| 00:40 Iteration: 1300 / 2000 [ 65%]  (Sampling)\n",
      "\n",
      "\u001b[A\u001b[A\n",
      "chain 1 |\u001b[34m███████▋  \u001b[0m| 00:43 Iteration: 1400 / 2000 [ 70%]  (Sampling)\n",
      "\n",
      "\u001b[A\u001b[A\n",
      "chain 1 |\u001b[34m████████▏ \u001b[0m| 00:46 Iteration: 1500 / 2000 [ 75%]  (Sampling)\n",
      "\n",
      "\u001b[A\u001b[A\n",
      "chain 1 |\u001b[34m████████▋ \u001b[0m| 00:49 Iteration: 1600 / 2000 [ 80%]  (Sampling)\n",
      "\n",
      "\u001b[A\u001b[A\n",
      "chain 1 |\u001b[34m█████████ \u001b[0m| 00:52 Iteration: 1700 / 2000 [ 85%]  (Sampling)\n",
      "\n",
      "\u001b[A\u001b[A\n",
      "chain 1 |\u001b[34m█████████▌\u001b[0m| 00:55 Iteration: 1800 / 2000 [ 90%]  (Sampling)\n",
      "\n",
      "\u001b[A\u001b[A\n",
      "chain 1 |\u001b[34m██████████\u001b[0m| 00:58 Sampling completed                       \n",
      "chain 2 |\u001b[34m██████████\u001b[0m| 00:58 Sampling completed                       \n",
      "chain 3 |\u001b[34m██████████\u001b[0m| 00:58 Sampling completed                       \n",
      "chain 4 |\u001b[34m██████████\u001b[0m| 00:58 Sampling completed                       "
     ]
    },
    {
     "name": "stdout",
     "output_type": "stream",
     "text": [
      "                                                                                                                                                                                                                                                                                                                                "
     ]
    },
    {
     "name": "stderr",
     "output_type": "stream",
     "text": [
      "\n",
      "INFO:cmdstanpy:CmdStan done processing.\n"
     ]
    },
    {
     "name": "stdout",
     "output_type": "stream",
     "text": [
      "\n"
     ]
    }
   ],
   "source": [
    "fit_unf = model_uniform.sample(data=data_for_inference, seed=seed)"
   ]
  },
  {
   "cell_type": "code",
   "execution_count": 15,
   "metadata": {},
   "outputs": [
    {
     "name": "stdout",
     "output_type": "stream",
     "text": [
      "Processing csv files: C:\\Users\\JASKIE~1\\AppData\\Local\\Temp\\tmp7ac5wi39\\model1-20220329113933_1.csv, C:\\Users\\JASKIE~1\\AppData\\Local\\Temp\\tmp7ac5wi39\\model1-20220329113933_2.csv, C:\\Users\\JASKIE~1\\AppData\\Local\\Temp\\tmp7ac5wi39\\model1-20220329113933_3.csv, C:\\Users\\JASKIE~1\\AppData\\Local\\Temp\\tmp7ac5wi39\\model1-20220329113933_4.csv\n",
      "\n",
      "Checking sampler transitions treedepth.\n",
      "3984 of 4000 (99.60%) transitions hit the maximum treedepth limit of 10, or 2^10 leapfrog steps.\n",
      "Trajectories that are prematurely terminated due to this limit will result in slow exploration.\n",
      "For optimal performance, increase this limit.\n",
      "\n",
      "Checking sampler transitions for divergences.\n",
      "16 of 4000 (0.40%) transitions ended with a divergence.\n",
      "These divergent transitions indicate that HMC is not fully able to explore the posterior distribution.\n",
      "Try increasing adapt delta closer to 1.\n",
      "If this doesn't remove all divergences, try to reparameterize the model.\n",
      "\n",
      "Checking E-BFMI - sampler transitions HMC potential energy.\n",
      "The E-BFMI, 0.01, is below the nominal threshold of 0.30 which suggests that HMC may have trouble exploring the target distribution.\n",
      "If possible, try to reparameterize the model.\n",
      "\n",
      "The following parameters had fewer than 0.001 effective draws per transition:\n",
      "  beta[1], beta[2], beta[3], beta[4], beta[5], beta[6], beta[7], beta[8], beta[9], beta[10], beta[11], beta[12], beta[13], beta[14], beta[15], beta[16], beta[17], beta[18], beta[19], beta[20], beta[21], beta[22], beta[23], beta[24], beta[25], beta[26], beta[27], beta[28], beta[29], beta[31], beta[32], beta[33], beta[34], beta[35], beta[36], beta[38], beta[39], beta[40], beta[41], beta[42], beta[43], beta[44], beta[45], beta[46], beta[47], beta[48], beta[49], beta[50], beta[51], beta[52], beta[53], beta[54], beta[55], beta[56], beta[57], beta[58], beta[59], beta[60], beta[61], beta[62], beta[63], beta[64], beta[65], beta[66], beta[67], beta[68], beta[69], beta[70], beta[71], beta[72], beta[73], beta[74], beta[75], beta[77], beta[78], beta[79], beta[81], beta[82], beta[83], beta[84], beta[85], beta[86], beta[87], beta[88], beta[89], beta[90], beta[91], beta[92], beta[93], beta[94], beta[95], beta[96], beta[97], beta[98], beta[99], beta[100], beta[101], beta[102], beta[104], beta[105], beta[106], beta[107], beta[108], beta[109], beta[110], beta[111], beta[112], beta[113], beta[114], beta[115], beta[116], beta[117], beta[118], beta[119], beta[120], beta[121], beta[122], beta[123], beta[124], beta[125], beta[126], beta[127], beta[128], beta[129], beta[130], beta[131], beta[132], beta[133], beta[134], beta[135], beta[136], beta[137], beta[138], beta[139], beta[140], beta[141], beta[142], beta[143], beta[144], beta[145], beta[146], beta[147], beta[148], beta[149], beta[150], beta[151], beta[152], beta[153], beta[154], beta[155], beta[156], beta[157], beta[158], beta[159], beta[160], beta[161], beta[162], beta[163], beta[164], beta[165], beta[166], beta[167], beta[168], beta[169], beta[170], beta[171], beta[172], beta[173], beta[174], beta[175], beta[176], beta[177], beta[178], beta[179], beta[180], beta[181], beta[182], beta[183], beta[184], beta[185], beta[186], beta[187], beta[188], beta[189], beta[190], beta[191], beta[192], beta[193], beta[194], beta[195], beta[196], beta[197], beta[198], beta[199], sigma\n",
      "Such low values indicate that the effective sample size estimators may be biased high and actual performance may be substantially lower than quoted.\n",
      "\n",
      "The following parameters had split R-hat greater than 1.05:\n",
      "  beta[1], beta[2], beta[3], beta[4], beta[5], beta[6], beta[7], beta[8], beta[9], beta[10], beta[11], beta[12], beta[13], beta[14], beta[15], beta[16], beta[17], beta[18], beta[19], beta[20], beta[21], beta[22], beta[23], beta[24], beta[25], beta[26], beta[27], beta[28], beta[29], beta[30], beta[31], beta[32], beta[33], beta[34], beta[35], beta[36], beta[37], beta[38], beta[39], beta[40], beta[41], beta[42], beta[43], beta[44], beta[45], beta[46], beta[47], beta[48], beta[49], beta[50], beta[51], beta[52], beta[53], beta[54], beta[55], beta[56], beta[57], beta[58], beta[59], beta[60], beta[61], beta[62], beta[63], beta[64], beta[65], beta[66], beta[67], beta[68], beta[69], beta[70], beta[71], beta[72], beta[73], beta[74], beta[75], beta[76], beta[77], beta[78], beta[79], beta[80], beta[81], beta[82], beta[83], beta[84], beta[85], beta[86], beta[87], beta[88], beta[89], beta[90], beta[91], beta[92], beta[93], beta[94], beta[95], beta[96], beta[97], beta[98], beta[99], beta[100], beta[101], beta[102], beta[103], beta[104], beta[105], beta[106], beta[107], beta[108], beta[109], beta[110], beta[111], beta[112], beta[113], beta[114], beta[115], beta[116], beta[117], beta[118], beta[119], beta[120], beta[121], beta[122], beta[123], beta[124], beta[125], beta[126], beta[127], beta[128], beta[129], beta[130], beta[131], beta[132], beta[133], beta[134], beta[135], beta[136], beta[137], beta[138], beta[139], beta[140], beta[141], beta[142], beta[143], beta[144], beta[145], beta[146], beta[147], beta[148], beta[149], beta[150], beta[151], beta[152], beta[153], beta[154], beta[155], beta[156], beta[157], beta[158], beta[159], beta[160], beta[161], beta[162], beta[163], beta[164], beta[165], beta[166], beta[167], beta[168], beta[169], beta[170], beta[171], beta[172], beta[173], beta[174], beta[175], beta[176], beta[177], beta[178], beta[179], beta[180], beta[181], beta[182], beta[183], beta[184], beta[185], beta[186], beta[187], beta[188], beta[189], beta[190], beta[191], beta[192], beta[193], beta[194], beta[195], beta[196], beta[197], beta[198], beta[199], beta[200], alpha, sigma\n",
      "Such high values indicate incomplete mixing and biased estimation.\n",
      "You should consider regularizating your model with additional prior information or a more effective parameterization.\n",
      "\n",
      "Processing complete.\n",
      "\n"
     ]
    }
   ],
   "source": [
    "print(fit_unf.diagnose())"
   ]
  },
  {
   "cell_type": "markdown",
   "metadata": {},
   "source": [
    "Task 1"
   ]
  },
  {
   "cell_type": "code",
   "execution_count": null,
   "metadata": {},
   "outputs": [],
   "source": []
  },
  {
   "cell_type": "markdown",
   "metadata": {},
   "source": [
    "Model 2 "
   ]
  },
  {
   "cell_type": "code",
   "execution_count": 18,
   "metadata": {},
   "outputs": [
    {
     "name": "stderr",
     "output_type": "stream",
     "text": [
      "INFO:cmdstanpy:compiling stan file C:\\Users\\Jaskier-PC\\Desktop\\semestr8\\Data_analysis\\Lab4\\model2.stan to exe file C:\\Users\\Jaskier-PC\\Desktop\\semestr8\\Data_analysis\\Lab4\\model2.exe\n",
      "INFO:cmdstanpy:compiled model executable: C:\\Users\\Jaskier-PC\\Desktop\\semestr8\\Data_analysis\\Lab4\\model2.exe\n",
      "INFO:cmdstanpy:CmdStan start procesing\n",
      "chain 1 |\u001b[33m          \u001b[0m| 00:00 Status\n",
      "\u001b[A\n",
      "\n",
      "chain 1 |\u001b[33m▍         \u001b[0m| 00:00 Status\n",
      "\u001b[A\n",
      "\n",
      "\u001b[A\u001b[A\n",
      "\n",
      "\u001b[A\u001b[A\n",
      "chain 1 |\u001b[33m▉         \u001b[0m| 00:00 Iteration:    1 / 2000 [  0%]  (Warmup)\n",
      "\u001b[A\n",
      "\n",
      "chain 1 |\u001b[33m█▎        \u001b[0m| 00:00 Iteration:  100 / 2000 [  5%]  (Warmup)\n",
      "\u001b[A\n",
      "\n",
      "chain 1 |\u001b[33m█▊        \u001b[0m| 00:00 Iteration:  200 / 2000 [ 10%]  (Warmup)\n",
      "\u001b[A\n",
      "\n",
      "chain 1 |\u001b[33m██▎       \u001b[0m| 00:00 Iteration:  300 / 2000 [ 15%]  (Warmup)\n",
      "\u001b[A\n",
      "\n",
      "chain 1 |\u001b[33m██▋       \u001b[0m| 00:01 Iteration:  400 / 2000 [ 20%]  (Warmup)\n",
      "\u001b[A\n",
      "\n",
      "chain 1 |\u001b[33m███▋      \u001b[0m| 00:01 Iteration:  600 / 2000 [ 30%]  (Warmup)\n",
      "\u001b[A\n",
      "\n",
      "chain 1 |\u001b[33m████▌     \u001b[0m| 00:01 Iteration:  800 / 2000 [ 40%]  (Warmup)\n",
      "\u001b[A\n",
      "\n",
      "chain 1 |\u001b[33m█████     \u001b[0m| 00:01 Iteration:  900 / 2000 [ 45%]  (Warmup)\n",
      "\u001b[A\n",
      "\n",
      "chain 1 |\u001b[34m█████▉    \u001b[0m| 00:01 Iteration: 1001 / 2000 [ 50%]  (Sampling)\n",
      "\u001b[A\n",
      "\n",
      "chain 1 |\u001b[34m██████▊   \u001b[0m| 00:01 Iteration: 1200 / 2000 [ 60%]  (Sampling)\n",
      "\n",
      "\u001b[A\u001b[A\n",
      "chain 1 |\u001b[34m███████▋  \u001b[0m| 00:02 Iteration: 1400 / 2000 [ 70%]  (Sampling)\n",
      "\u001b[A\n",
      "\n",
      "chain 1 |\u001b[34m████████▋ \u001b[0m| 00:02 Iteration: 1600 / 2000 [ 80%]  (Sampling)\n",
      "\u001b[A\n",
      "\n",
      "\u001b[A\u001b[A\n",
      "\u001b[A\n",
      "\n",
      "chain 1 |\u001b[34m█████████▌\u001b[0m| 00:02 Iteration: 1800 / 2000 [ 90%]  (Sampling)\n",
      "\u001b[A\n",
      "\n",
      "\u001b[A\u001b[A\n",
      "chain 1 |\u001b[34m██████████\u001b[0m| 00:02 Sampling completed                       \n",
      "chain 2 |\u001b[34m██████████\u001b[0m| 00:02 Sampling completed                       \n",
      "chain 3 |\u001b[34m██████████\u001b[0m| 00:02 Sampling completed                       \n",
      "chain 4 |\u001b[34m██████████\u001b[0m| 00:02 Sampling completed                       "
     ]
    },
    {
     "name": "stdout",
     "output_type": "stream",
     "text": [
      "                                                                                                                                                                                                                                                                                                                                "
     ]
    },
    {
     "name": "stderr",
     "output_type": "stream",
     "text": [
      "\n",
      "INFO:cmdstanpy:CmdStan done processing.\n"
     ]
    },
    {
     "name": "stdout",
     "output_type": "stream",
     "text": [
      "\n",
      "<bound method CmdStanMCMC.diagnose of CmdStanMCMC: model=model2 chains=4['method=sample', 'algorithm=hmc', 'adapt', 'engaged=1']\n",
      " csv_files:\n",
      "\tC:\\Users\\JASKIE~1\\AppData\\Local\\Temp\\tmp7ac5wi39\\model2-20220329122119_1.csv\n",
      "\tC:\\Users\\JASKIE~1\\AppData\\Local\\Temp\\tmp7ac5wi39\\model2-20220329122119_2.csv\n",
      "\tC:\\Users\\JASKIE~1\\AppData\\Local\\Temp\\tmp7ac5wi39\\model2-20220329122119_3.csv\n",
      "\tC:\\Users\\JASKIE~1\\AppData\\Local\\Temp\\tmp7ac5wi39\\model2-20220329122119_4.csv\n",
      " output_files:\n",
      "\tC:\\Users\\JASKIE~1\\AppData\\Local\\Temp\\tmp7ac5wi39\\model2-20220329122119_0-stdout.txt\n",
      "\tC:\\Users\\JASKIE~1\\AppData\\Local\\Temp\\tmp7ac5wi39\\model2-20220329122119_1-stdout.txt\n",
      "\tC:\\Users\\JASKIE~1\\AppData\\Local\\Temp\\tmp7ac5wi39\\model2-20220329122119_2-stdout.txt\n",
      "\tC:\\Users\\JASKIE~1\\AppData\\Local\\Temp\\tmp7ac5wi39\\model2-20220329122119_3-stdout.txt>\n"
     ]
    }
   ],
   "source": [
    "model_reg = CmdStanModel(stan_file= r'C:\\Users\\Jaskier-PC\\Desktop\\semestr8\\Data_analysis\\Lab4\\model2.stan')\n",
    "fit_reg = model_reg.sample(data=data_for_inference, seed=seed)\n",
    "print(fit_reg.diagnose)"
   ]
  },
  {
   "cell_type": "code",
   "execution_count": 19,
   "metadata": {},
   "outputs": [
    {
     "name": "stdout",
     "output_type": "stream",
     "text": [
      "Processing csv files: C:\\Users\\JASKIE~1\\AppData\\Local\\Temp\\tmp7ac5wi39\\model2-20220329122119_1.csv, C:\\Users\\JASKIE~1\\AppData\\Local\\Temp\\tmp7ac5wi39\\model2-20220329122119_2.csv, C:\\Users\\JASKIE~1\\AppData\\Local\\Temp\\tmp7ac5wi39\\model2-20220329122119_3.csv, C:\\Users\\JASKIE~1\\AppData\\Local\\Temp\\tmp7ac5wi39\\model2-20220329122119_4.csv\n",
      "\n",
      "Checking sampler transitions treedepth.\n",
      "Treedepth satisfactory for all transitions.\n",
      "\n",
      "Checking sampler transitions for divergences.\n",
      "No divergent transitions found.\n",
      "\n",
      "Checking E-BFMI - sampler transitions HMC potential energy.\n",
      "E-BFMI satisfactory.\n",
      "\n",
      "Effective sample size satisfactory.\n",
      "\n",
      "Split R-hat values satisfactory all parameters.\n",
      "\n",
      "Processing complete, no problems detected.\n",
      "\n"
     ]
    }
   ],
   "source": [
    "print(fit_reg.diagnose())"
   ]
  },
  {
   "cell_type": "markdown",
   "metadata": {},
   "source": [
    "Model 3"
   ]
  },
  {
   "cell_type": "code",
   "execution_count": 20,
   "metadata": {},
   "outputs": [
    {
     "name": "stderr",
     "output_type": "stream",
     "text": [
      "INFO:cmdstanpy:compiling stan file C:\\Users\\Jaskier-PC\\Desktop\\semestr8\\Data_analysis\\Lab4\\model3.stan to exe file C:\\Users\\Jaskier-PC\\Desktop\\semestr8\\Data_analysis\\Lab4\\model3.exe\n",
      "INFO:cmdstanpy:compiled model executable: C:\\Users\\Jaskier-PC\\Desktop\\semestr8\\Data_analysis\\Lab4\\model3.exe\n"
     ]
    }
   ],
   "source": [
    "model_lap = CmdStanModel(stan_file= r'C:\\Users\\Jaskier-PC\\Desktop\\semestr8\\Data_analysis\\Lab4\\model3.stan')"
   ]
  },
  {
   "cell_type": "code",
   "execution_count": 21,
   "metadata": {},
   "outputs": [
    {
     "name": "stderr",
     "output_type": "stream",
     "text": [
      "INFO:cmdstanpy:CmdStan start procesing\n",
      "chain 1 |\u001b[33m          \u001b[0m| 00:00 Status\n",
      "\u001b[A\n",
      "\n",
      "chain 1 |\u001b[33m▉         \u001b[0m| 00:01 Iteration:    1 / 2000 [  0%]  (Warmup)\n",
      "\u001b[A\n",
      "\n",
      "chain 1 |\u001b[33m█▎        \u001b[0m| 00:07 Iteration:  100 / 2000 [  5%]  (Warmup)\n",
      "\n",
      "\u001b[A\u001b[A\n",
      "\u001b[A\n",
      "\n",
      "chain 1 |\u001b[33m█▊        \u001b[0m| 00:11 Iteration:  200 / 2000 [ 10%]  (Warmup)\n",
      "\u001b[A\n",
      "\n",
      "chain 1 |\u001b[33m██▎       \u001b[0m| 00:14 Iteration:  300 / 2000 [ 15%]  (Warmup)\n",
      "\n",
      "\u001b[A\u001b[A\n",
      "chain 1 |\u001b[33m██▋       \u001b[0m| 00:17 Iteration:  400 / 2000 [ 20%]  (Warmup)\n",
      "\n",
      "chain 1 |\u001b[33m███▏      \u001b[0m| 00:19 Iteration:  500 / 2000 [ 25%]  (Warmup)\n",
      "\u001b[A\n",
      "\n",
      "\u001b[A\u001b[A\n",
      "chain 1 |\u001b[33m███▋      \u001b[0m| 00:22 Iteration:  600 / 2000 [ 30%]  (Warmup)\n",
      "chain 1 |\u001b[33m████      \u001b[0m| 00:25 Iteration:  700 / 2000 [ 35%]  (Warmup)\n",
      "\n",
      "\u001b[A\u001b[A\n",
      "chain 1 |\u001b[33m████▌     \u001b[0m| 00:28 Iteration:  800 / 2000 [ 40%]  (Warmup)\n",
      "chain 1 |\u001b[34m█████▉    \u001b[0m| 00:35 Iteration: 1001 / 2000 [ 50%]  (Sampling)\n",
      "\n",
      "\u001b[A\u001b[A\n",
      "chain 1 |\u001b[34m██████▊   \u001b[0m| 00:41 Iteration: 1200 / 2000 [ 60%]  (Sampling)\n",
      "chain 1 |\u001b[34m███████▎  \u001b[0m| 00:44 Iteration: 1300 / 2000 [ 65%]  (Sampling)\n",
      "\n",
      "chain 1 |\u001b[34m███████▋  \u001b[0m| 00:47 Iteration: 1400 / 2000 [ 70%]  (Sampling)\n",
      "chain 1 |\u001b[34m████████▋ \u001b[0m| 00:53 Iteration: 1600 / 2000 [ 80%]  (Sampling)\n",
      "\u001b[A\n",
      "\n",
      "chain 1 |\u001b[34m█████████▌\u001b[0m| 00:59 Iteration: 1800 / 2000 [ 90%]  (Sampling)\n",
      "chain 1 |\u001b[34m██████████\u001b[0m| 01:02 Iteration: 1900 / 2000 [ 95%]  (Sampling)\n",
      "\n",
      "\u001b[A\u001b[A\n",
      "\u001b[A\n",
      "\u001b[A\n",
      "\n",
      "\u001b[A\u001b[A\n",
      "\u001b[A\n",
      "\n",
      "\u001b[A\u001b[A\n",
      "\u001b[A\n",
      "\u001b[A\n",
      "\n",
      "\u001b[A\u001b[A\n",
      "\u001b[A\n",
      "\n",
      "\u001b[A\u001b[A\n",
      "\n",
      "\u001b[A\u001b[A\n",
      "\n",
      "\u001b[A\u001b[A\n",
      "\n",
      "\u001b[A\u001b[A\n",
      "\n",
      "chain 1 |\u001b[34m██████████\u001b[0m| 02:17 Sampling completed                       \n",
      "chain 2 |\u001b[34m██████████\u001b[0m| 02:17 Sampling completed                       \n",
      "chain 3 |\u001b[34m██████████\u001b[0m| 02:17 Sampling completed                       \n",
      "chain 4 |\u001b[34m██████████\u001b[0m| 02:17 Sampling completed                       "
     ]
    },
    {
     "name": "stdout",
     "output_type": "stream",
     "text": [
      "                                                                                                                                                                                                                                                                                                                                "
     ]
    },
    {
     "name": "stderr",
     "output_type": "stream",
     "text": [
      "\n",
      "INFO:cmdstanpy:CmdStan done processing.\n"
     ]
    },
    {
     "name": "stdout",
     "output_type": "stream",
     "text": [
      "\n"
     ]
    }
   ],
   "source": [
    "fit_lap = model_lap.sample(data=data_for_inference, seed=seed, adapt_delta=0.99, max_treedepth=12)"
   ]
  },
  {
   "cell_type": "code",
   "execution_count": 22,
   "metadata": {},
   "outputs": [
    {
     "name": "stdout",
     "output_type": "stream",
     "text": [
      "Processing csv files: C:\\Users\\JASKIE~1\\AppData\\Local\\Temp\\tmp7ac5wi39\\model3-20220329122526_1.csv, C:\\Users\\JASKIE~1\\AppData\\Local\\Temp\\tmp7ac5wi39\\model3-20220329122526_2.csv, C:\\Users\\JASKIE~1\\AppData\\Local\\Temp\\tmp7ac5wi39\\model3-20220329122526_3.csv, C:\\Users\\JASKIE~1\\AppData\\Local\\Temp\\tmp7ac5wi39\\model3-20220329122526_4.csv\n",
      "\n",
      "Checking sampler transitions treedepth.\n",
      "417 of 4000 (10.43%) transitions hit the maximum treedepth limit of 12, or 2^12 leapfrog steps.\n",
      "Trajectories that are prematurely terminated due to this limit will result in slow exploration.\n",
      "For optimal performance, increase this limit.\n",
      "\n",
      "Checking sampler transitions for divergences.\n",
      "No divergent transitions found.\n",
      "\n",
      "Checking E-BFMI - sampler transitions HMC potential energy.\n",
      "The E-BFMI, 0.04, is below the nominal threshold of 0.30 which suggests that HMC may have trouble exploring the target distribution.\n",
      "If possible, try to reparameterize the model.\n",
      "\n",
      "Effective sample size satisfactory.\n",
      "\n",
      "The following parameters had split R-hat greater than 1.05:\n",
      "  sigma\n",
      "Such high values indicate incomplete mixing and biased estimation.\n",
      "You should consider regularizating your model with additional prior information or a more effective parameterization.\n",
      "\n",
      "Processing complete.\n",
      "\n"
     ]
    }
   ],
   "source": [
    "print(fit_lap.diagnose())"
   ]
  },
  {
   "cell_type": "code",
   "execution_count": null,
   "metadata": {},
   "outputs": [],
   "source": []
  }
 ],
 "metadata": {
  "interpreter": {
   "hash": "10c80f81247242d5fb45de76ec3faa12a01e850165fc5b4a2d18bcf04ab48a79"
  },
  "kernelspec": {
   "display_name": "Python 3.9.10 ('Data_Anal')",
   "language": "python",
   "name": "python3"
  },
  "language_info": {
   "codemirror_mode": {
    "name": "ipython",
    "version": 3
   },
   "file_extension": ".py",
   "mimetype": "text/x-python",
   "name": "python",
   "nbconvert_exporter": "python",
   "pygments_lexer": "ipython3",
   "version": "3.9.10"
  },
  "orig_nbformat": 4
 },
 "nbformat": 4,
 "nbformat_minor": 2
}
