{
 "cells": [
  {
   "cell_type": "code",
   "execution_count": 9,
   "metadata": {},
   "outputs": [],
   "source": [
    "from cmdstanpy import CmdStanModel\n",
    "\n",
    "import arviz as az\n",
    "import numpy as np\n",
    "import scipy.stats as stats\n",
    "\n",
    "import pandas as pd\n",
    "\n",
    "import matplotlib.pyplot as plt\n",
    "import matplotlib as mpl\n"
   ]
  },
  {
   "cell_type": "markdown",
   "metadata": {},
   "source": [
    "Excercise 1"
   ]
  },
  {
   "cell_type": "code",
   "execution_count": 10,
   "metadata": {},
   "outputs": [
    {
     "name": "stderr",
     "output_type": "stream",
     "text": [
      "INFO:cmdstanpy:found newer exe file, not recompiling\n",
      "INFO:cmdstanpy:found newer exe file, not recompiling\n"
     ]
    }
   ],
   "source": [
    "data_1 = CmdStanModel(stan_file=r'C:\\Users\\Jaskier-PC\\Desktop\\semestr8\\Data_analysis\\lab7\\code_1.stan')\n",
    "data_2 = CmdStanModel(stan_file=r'C:\\Users\\Jaskier-PC\\Desktop\\semestr8\\Data_analysis\\lab7\\code_2.stan')"
   ]
  },
  {
   "cell_type": "markdown",
   "metadata": {},
   "source": [
    "Excercise 2"
   ]
  },
  {
   "cell_type": "code",
   "execution_count": 11,
   "metadata": {},
   "outputs": [
    {
     "name": "stderr",
     "output_type": "stream",
     "text": [
      "INFO:cmdstanpy:found newer exe file, not recompiling\n",
      "INFO:cmdstanpy:found newer exe file, not recompiling\n",
      "INFO:cmdstanpy:found newer exe file, not recompiling\n"
     ]
    }
   ],
   "source": [
    "model_1 = CmdStanModel(stan_file=r'C:\\Users\\Jaskier-PC\\Desktop\\semestr8\\Data_analysis\\lab7\\code_3.stan')\n",
    "model_2 = CmdStanModel(stan_file=r'C:\\Users\\Jaskier-PC\\Desktop\\semestr8\\Data_analysis\\lab7\\code_4.stan')\n",
    "model_3 = CmdStanModel(stan_file=r'C:\\Users\\Jaskier-PC\\Desktop\\semestr8\\Data_analysis\\lab7\\code_5.stan')"
   ]
  },
  {
   "cell_type": "code",
   "execution_count": 12,
   "metadata": {},
   "outputs": [
    {
     "ename": "SyntaxError",
     "evalue": "invalid syntax (262917453.py, line 2)",
     "output_type": "error",
     "traceback": [
      "\u001b[1;36m  Input \u001b[1;32mIn [12]\u001b[1;36m\u001b[0m\n\u001b[1;33m    L = 6\u001b[0m\n\u001b[1;37m    ^\u001b[0m\n\u001b[1;31mSyntaxError\u001b[0m\u001b[1;31m:\u001b[0m invalid syntax\n"
     ]
    }
   ],
   "source": [
    "data_dict = dict(\n",
    "                    \n",
    "                 \n",
    "\n",
    "fit1 = model_3.sample(data=data_dict, seed=4938483)"
   ]
  }
 ],
 "metadata": {
  "interpreter": {
   "hash": "10c80f81247242d5fb45de76ec3faa12a01e850165fc5b4a2d18bcf04ab48a79"
  },
  "kernelspec": {
   "display_name": "Python 3.9.10 ('Data_Anal')",
   "language": "python",
   "name": "python3"
  },
  "language_info": {
   "codemirror_mode": {
    "name": "ipython",
    "version": 3
   },
   "file_extension": ".py",
   "mimetype": "text/x-python",
   "name": "python",
   "nbconvert_exporter": "python",
   "pygments_lexer": "ipython3",
   "version": "3.9.10"
  },
  "orig_nbformat": 4
 },
 "nbformat": 4,
 "nbformat_minor": 2
}
