{
 "cells": [
  {
   "cell_type": "code",
   "execution_count": 22,
   "metadata": {},
   "outputs": [],
   "source": [
    "from cmdstanpy import CmdStanModel\n",
    "import arviz as az\n",
    "import numpy as np\n",
    "import matplotlib.pyplot as plt"
   ]
  },
  {
   "cell_type": "code",
   "execution_count": 23,
   "metadata": {},
   "outputs": [
    {
     "name": "stderr",
     "output_type": "stream",
     "text": [
      "INFO:cmdstanpy:found newer exe file, not recompiling\n",
      "INFO:cmdstanpy:found newer exe file, not recompiling\n",
      "INFO:cmdstanpy:found newer exe file, not recompiling\n",
      "INFO:cmdstanpy:found newer exe file, not recompiling\n",
      "INFO:cmdstanpy:found newer exe file, not recompiling\n"
     ]
    }
   ],
   "source": [
    "model_1 = CmdStanModel(stan_file=r'C:\\Users\\Jaskier-PC\\Desktop\\semestr8\\Data_analysis\\lab7\\code_1.stan')\n",
    "model_2 = CmdStanModel(stan_file=r'C:\\Users\\Jaskier-PC\\Desktop\\semestr8\\Data_analysis\\lab7\\code_2.stan')\n",
    "model_3 = CmdStanModel(stan_file=r'C:\\Users\\Jaskier-PC\\Desktop\\semestr8\\Data_analysis\\lab7\\code_3.stan')\n",
    "model_4 = CmdStanModel(stan_file=r'C:\\Users\\Jaskier-PC\\Desktop\\semestr8\\Data_analysis\\lab7\\code_4.stan')\n",
    "model_5 = CmdStanModel(stan_file=r'C:\\Users\\Jaskier-PC\\Desktop\\semestr8\\Data_analysis\\lab7\\code_5.stan')"
   ]
  },
  {
   "cell_type": "code",
   "execution_count": 31,
   "metadata": {},
   "outputs": [],
   "source": [
    "F=7\n",
    "L=6\n",
    "N = (L+F)*100\n",
    "stan_data = {\n",
    "    \"N\":N,\n",
    "}"
   ]
  },
  {
   "cell_type": "code",
   "execution_count": 32,
   "metadata": {},
   "outputs": [
    {
     "name": "stderr",
     "output_type": "stream",
     "text": [
      "INFO:cmdstanpy:CmdStan start procesing\n",
      "chain 1 |\u001b[34m██████████\u001b[0m| 00:01 Sampling completed                      "
     ]
    },
    {
     "name": "stdout",
     "output_type": "stream",
     "text": [
      "                                                                                "
     ]
    },
    {
     "name": "stderr",
     "output_type": "stream",
     "text": [
      "\n",
      "INFO:cmdstanpy:CmdStan done processing.\n",
      "INFO:cmdstanpy:CmdStan start procesing\n"
     ]
    },
    {
     "name": "stdout",
     "output_type": "stream",
     "text": [
      "\n"
     ]
    },
    {
     "name": "stderr",
     "output_type": "stream",
     "text": [
      "chain 1 |\u001b[34m██████████\u001b[0m| 00:05 Sampling completed                      "
     ]
    },
    {
     "name": "stdout",
     "output_type": "stream",
     "text": [
      "                                                                                "
     ]
    },
    {
     "name": "stderr",
     "output_type": "stream",
     "text": [
      "\n",
      "INFO:cmdstanpy:CmdStan done processing.\n"
     ]
    },
    {
     "name": "stdout",
     "output_type": "stream",
     "text": [
      "\n"
     ]
    }
   ],
   "source": [
    "sample1 = model_1.sample(stan_data, iter_sampling=1000, iter_warmup=1,  chains =1)\n",
    "sample2 = model_2.sample(stan_data, iter_sampling=1000, iter_warmup=1, chains =1)"
   ]
  },
  {
   "cell_type": "code",
   "execution_count": 33,
   "metadata": {},
   "outputs": [
    {
     "name": "stdout",
     "output_type": "stream",
     "text": [
      "[ 0.469308 -0.023248  1.29674  ... -0.917452 -0.67805  -0.225184]\n",
      "[-0.158198  3.98039   1.50049  ... -0.445953 -3.05788   0.160939]\n"
     ]
    },
    {
     "data": {
      "image/png": "[encoded data removed]",
      "text/plain": [
       "<Figure size 432x288 with 1 Axes>"
      ]
     },
     "metadata": {
      "needs_background": "light"
     },
     "output_type": "display_data"
    },
    {
     "data": {
      "image/png": "[encoded data removed]",
      "text/plain": [
       "<Figure size 432x288 with 1 Axes>"
      ]
     },
     "metadata": {
      "needs_background": "light"
     },
     "output_type": "display_data"
    }
   ],
   "source": [
    "y1 = sample1.stan_variable('y')[0]\n",
    "print(y1)\n",
    "\n",
    "y2 = sample2.stan_variable('y')[0]\n",
    "print(y2)\n",
    "\n",
    "data1 = {\n",
    "    'N': N,\n",
    "    'y': y1\n",
    "}\n",
    "\n",
    "data2 = {\n",
    "    'N': N,\n",
    "    'y': y2\n",
    "}\n",
    "\n",
    "plt.hist(y1)\n",
    "plt.show()\n",
    "plt.hist(y2)\n",
    "plt.show()"
   ]
  },
  {
   "cell_type": "markdown",
   "metadata": {},
   "source": [
    "exercise 2"
   ]
  },
  {
   "cell_type": "code",
   "execution_count": 35,
   "metadata": {},
   "outputs": [
    {
     "name": "stderr",
     "output_type": "stream",
     "text": [
      "INFO:cmdstanpy:CmdStan start procesing\n",
      "chain 1 |\u001b[34m██████████\u001b[0m| 00:02 Sampling completed                       "
     ]
    },
    {
     "name": "stdout",
     "output_type": "stream",
     "text": [
      "                                                                                "
     ]
    },
    {
     "name": "stderr",
     "output_type": "stream",
     "text": [
      "\n",
      "INFO:cmdstanpy:CmdStan done processing.\n"
     ]
    },
    {
     "name": "stdout",
     "output_type": "stream",
     "text": [
      "\n"
     ]
    },
    {
     "name": "stderr",
     "output_type": "stream",
     "text": [
      "INFO:cmdstanpy:CmdStan start procesing\n",
      "chain 1 |\u001b[34m██████████\u001b[0m| 00:02 Sampling completed                       "
     ]
    },
    {
     "name": "stdout",
     "output_type": "stream",
     "text": [
      "                                                                                "
     ]
    },
    {
     "name": "stderr",
     "output_type": "stream",
     "text": [
      "\n",
      "INFO:cmdstanpy:CmdStan done processing.\n"
     ]
    },
    {
     "name": "stdout",
     "output_type": "stream",
     "text": [
      "\n"
     ]
    },
    {
     "name": "stderr",
     "output_type": "stream",
     "text": [
      "INFO:cmdstanpy:CmdStan start procesing\n",
      "chain 1 |\u001b[34m██████████\u001b[0m| 00:03 Sampling completed                       "
     ]
    },
    {
     "name": "stdout",
     "output_type": "stream",
     "text": [
      "                                                                                "
     ]
    },
    {
     "name": "stderr",
     "output_type": "stream",
     "text": [
      "\n",
      "INFO:cmdstanpy:CmdStan done processing.\n"
     ]
    },
    {
     "name": "stdout",
     "output_type": "stream",
     "text": [
      "\n"
     ]
    },
    {
     "name": "stderr",
     "output_type": "stream",
     "text": [
      "INFO:cmdstanpy:CmdStan start procesing\n",
      "chain 1 |\u001b[34m██████████\u001b[0m| 00:03 Sampling completed                       "
     ]
    },
    {
     "name": "stdout",
     "output_type": "stream",
     "text": [
      "                                                                                "
     ]
    },
    {
     "name": "stderr",
     "output_type": "stream",
     "text": [
      "\n",
      "INFO:cmdstanpy:CmdStan done processing.\n"
     ]
    },
    {
     "name": "stdout",
     "output_type": "stream",
     "text": [
      "\n"
     ]
    }
   ],
   "source": [
    "fit3=model_3.sample(data=data1, iter_sampling=1000, iter_warmup=1, chains =1)\n",
    "\n",
    "fit3_2=model_3.sample(data=data2, iter_sampling=1000, iter_warmup=1, chains =1)\n",
    "\n",
    "fit4=model_4.sample(data=data1, iter_sampling=1000, iter_warmup=1, chains =1)\n",
    "\n",
    "fit4_2=model_4.sample(data=data2, iter_sampling=1000, iter_warmup=1, chains =1)"
   ]
  },
  {
   "cell_type": "code",
   "execution_count": 36,
   "metadata": {},
   "outputs": [
    {
     "name": "stderr",
     "output_type": "stream",
     "text": [
      "C:\\Users\\Jaskier-PC\\anaconda3\\envs\\Data_Anal\\lib\\site-packages\\arviz\\stats\\stats.py:145: UserWarning: The default method used to estimate the weights for each model,has changed from BB-pseudo-BMA to stacking\n",
      "  warnings.warn(\n"
     ]
    },
    {
     "ename": "TypeError",
     "evalue": "log likelihood not found in inference data object",
     "output_type": "error",
     "traceback": [
      "\u001b[1;31m---------------------------------------------------------------------------\u001b[0m",
      "\u001b[1;31mTypeError\u001b[0m                                 Traceback (most recent call last)",
      "\u001b[1;32mc:\\Users\\Jaskier-PC\\Desktop\\semestr8\\Data_analysis\\lab7\\lab7.ipynb Cell 8'\u001b[0m in \u001b[0;36m<cell line: 4>\u001b[1;34m()\u001b[0m\n\u001b[0;32m      <a href='vscode-notebook-cell:/c%3A/Users/Jaskier-PC/Desktop/semestr8/Data_analysis/lab7/lab7.ipynb#ch0000008?line=0'>1</a>\u001b[0m compare_dict_1 \u001b[39m=\u001b[39m {\u001b[39m'\u001b[39m\u001b[39mmodel_3\u001b[39m\u001b[39m'\u001b[39m: fit3,\u001b[39m'\u001b[39m\u001b[39mmodel_4\u001b[39m\u001b[39m'\u001b[39m: fit4}\n\u001b[0;32m      <a href='vscode-notebook-cell:/c%3A/Users/Jaskier-PC/Desktop/semestr8/Data_analysis/lab7/lab7.ipynb#ch0000008?line=1'>2</a>\u001b[0m compare_dict_2 \u001b[39m=\u001b[39m {\u001b[39m'\u001b[39m\u001b[39mmodel_3\u001b[39m\u001b[39m'\u001b[39m: fit3_2,\u001b[39m'\u001b[39m\u001b[39mmodel_4\u001b[39m\u001b[39m'\u001b[39m: fit4_2}\n\u001b[1;32m----> <a href='vscode-notebook-cell:/c%3A/Users/Jaskier-PC/Desktop/semestr8/Data_analysis/lab7/lab7.ipynb#ch0000008?line=3'>4</a>\u001b[0m model_compare_waic_1 \u001b[39m=\u001b[39m az\u001b[39m.\u001b[39;49mcompare(compare_dict_1, ic \u001b[39m=\u001b[39;49m \u001b[39m'\u001b[39;49m\u001b[39mwaic\u001b[39;49m\u001b[39m'\u001b[39;49m)\n\u001b[0;32m      <a href='vscode-notebook-cell:/c%3A/Users/Jaskier-PC/Desktop/semestr8/Data_analysis/lab7/lab7.ipynb#ch0000008?line=5'>6</a>\u001b[0m \u001b[39mprint\u001b[39m(model_compare_waic_1\u001b[39m.\u001b[39mhead())\n\u001b[0;32m      <a href='vscode-notebook-cell:/c%3A/Users/Jaskier-PC/Desktop/semestr8/Data_analysis/lab7/lab7.ipynb#ch0000008?line=6'>7</a>\u001b[0m az\u001b[39m.\u001b[39mplot_compare(model_compare_waic_1)\n",
      "File \u001b[1;32m~\\anaconda3\\envs\\Data_Anal\\lib\\site-packages\\arviz\\stats\\stats.py:212\u001b[0m, in \u001b[0;36mcompare\u001b[1;34m(dataset_dict, ic, method, b_samples, alpha, seed, scale)\u001b[0m\n\u001b[0;32m    <a href='file:///c%3A/Users/Jaskier-PC/anaconda3/envs/Data_Anal/lib/site-packages/arviz/stats/stats.py?line=209'>210</a>\u001b[0m \u001b[39mfor\u001b[39;00m name, dataset \u001b[39min\u001b[39;00m dataset_dict\u001b[39m.\u001b[39mitems():\n\u001b[0;32m    <a href='file:///c%3A/Users/Jaskier-PC/anaconda3/envs/Data_Anal/lib/site-packages/arviz/stats/stats.py?line=210'>211</a>\u001b[0m     names\u001b[39m.\u001b[39mappend(name)\n\u001b[1;32m--> <a href='file:///c%3A/Users/Jaskier-PC/anaconda3/envs/Data_Anal/lib/site-packages/arviz/stats/stats.py?line=211'>212</a>\u001b[0m     ics \u001b[39m=\u001b[39m ics\u001b[39m.\u001b[39mappend([ic_func(dataset, pointwise\u001b[39m=\u001b[39;49m\u001b[39mTrue\u001b[39;49;00m, scale\u001b[39m=\u001b[39;49mscale)])\n\u001b[0;32m    <a href='file:///c%3A/Users/Jaskier-PC/anaconda3/envs/Data_Anal/lib/site-packages/arviz/stats/stats.py?line=212'>213</a>\u001b[0m ics\u001b[39m.\u001b[39mindex \u001b[39m=\u001b[39m names\n\u001b[0;32m    <a href='file:///c%3A/Users/Jaskier-PC/anaconda3/envs/Data_Anal/lib/site-packages/arviz/stats/stats.py?line=213'>214</a>\u001b[0m ics\u001b[39m.\u001b[39msort_values(by\u001b[39m=\u001b[39mic, inplace\u001b[39m=\u001b[39m\u001b[39mTrue\u001b[39;00m, ascending\u001b[39m=\u001b[39mascending)\n",
      "File \u001b[1;32m~\\anaconda3\\envs\\Data_Anal\\lib\\site-packages\\arviz\\stats\\stats.py:1373\u001b[0m, in \u001b[0;36mwaic\u001b[1;34m(data, pointwise, var_name, scale, dask_kwargs)\u001b[0m\n\u001b[0;32m   <a href='file:///c%3A/Users/Jaskier-PC/anaconda3/envs/Data_Anal/lib/site-packages/arviz/stats/stats.py?line=1312'>1313</a>\u001b[0m \u001b[39m\"\"\"Compute the widely applicable information criterion.\u001b[39;00m\n\u001b[0;32m   <a href='file:///c%3A/Users/Jaskier-PC/anaconda3/envs/Data_Anal/lib/site-packages/arviz/stats/stats.py?line=1313'>1314</a>\u001b[0m \n\u001b[0;32m   <a href='file:///c%3A/Users/Jaskier-PC/anaconda3/envs/Data_Anal/lib/site-packages/arviz/stats/stats.py?line=1314'>1315</a>\u001b[0m \u001b[39mEstimates the expected log pointwise predictive density (elpd) using WAIC. Also calculates the\u001b[39;00m\n\u001b[1;32m   (...)\u001b[0m\n\u001b[0;32m   <a href='file:///c%3A/Users/Jaskier-PC/anaconda3/envs/Data_Anal/lib/site-packages/arviz/stats/stats.py?line=1369'>1370</a>\u001b[0m \u001b[39m       ...: data_waic.waic_i\u001b[39;00m\n\u001b[0;32m   <a href='file:///c%3A/Users/Jaskier-PC/anaconda3/envs/Data_Anal/lib/site-packages/arviz/stats/stats.py?line=1370'>1371</a>\u001b[0m \u001b[39m\"\"\"\u001b[39;00m\n\u001b[0;32m   <a href='file:///c%3A/Users/Jaskier-PC/anaconda3/envs/Data_Anal/lib/site-packages/arviz/stats/stats.py?line=1371'>1372</a>\u001b[0m inference_data \u001b[39m=\u001b[39m convert_to_inference_data(data)\n\u001b[1;32m-> <a href='file:///c%3A/Users/Jaskier-PC/anaconda3/envs/Data_Anal/lib/site-packages/arviz/stats/stats.py?line=1372'>1373</a>\u001b[0m log_likelihood \u001b[39m=\u001b[39m _get_log_likelihood(inference_data, var_name\u001b[39m=\u001b[39;49mvar_name)\n\u001b[0;32m   <a href='file:///c%3A/Users/Jaskier-PC/anaconda3/envs/Data_Anal/lib/site-packages/arviz/stats/stats.py?line=1373'>1374</a>\u001b[0m scale \u001b[39m=\u001b[39m rcParams[\u001b[39m\"\u001b[39m\u001b[39mstats.ic_scale\u001b[39m\u001b[39m\"\u001b[39m] \u001b[39mif\u001b[39;00m scale \u001b[39mis\u001b[39;00m \u001b[39mNone\u001b[39;00m \u001b[39melse\u001b[39;00m scale\u001b[39m.\u001b[39mlower()\n\u001b[0;32m   <a href='file:///c%3A/Users/Jaskier-PC/anaconda3/envs/Data_Anal/lib/site-packages/arviz/stats/stats.py?line=1374'>1375</a>\u001b[0m pointwise \u001b[39m=\u001b[39m rcParams[\u001b[39m\"\u001b[39m\u001b[39mstats.ic_pointwise\u001b[39m\u001b[39m\"\u001b[39m] \u001b[39mif\u001b[39;00m pointwise \u001b[39mis\u001b[39;00m \u001b[39mNone\u001b[39;00m \u001b[39melse\u001b[39;00m pointwise\n",
      "File \u001b[1;32m~\\anaconda3\\envs\\Data_Anal\\lib\\site-packages\\arviz\\stats\\stats_utils.py:422\u001b[0m, in \u001b[0;36mget_log_likelihood\u001b[1;34m(idata, var_name)\u001b[0m\n\u001b[0;32m    <a href='file:///c%3A/Users/Jaskier-PC/anaconda3/envs/Data_Anal/lib/site-packages/arviz/stats/stats_utils.py?line=419'>420</a>\u001b[0m     \u001b[39mreturn\u001b[39;00m idata\u001b[39m.\u001b[39msample_stats\u001b[39m.\u001b[39mlog_likelihood\n\u001b[0;32m    <a href='file:///c%3A/Users/Jaskier-PC/anaconda3/envs/Data_Anal/lib/site-packages/arviz/stats/stats_utils.py?line=420'>421</a>\u001b[0m \u001b[39mif\u001b[39;00m \u001b[39mnot\u001b[39;00m \u001b[39mhasattr\u001b[39m(idata, \u001b[39m\"\u001b[39m\u001b[39mlog_likelihood\u001b[39m\u001b[39m\"\u001b[39m):\n\u001b[1;32m--> <a href='file:///c%3A/Users/Jaskier-PC/anaconda3/envs/Data_Anal/lib/site-packages/arviz/stats/stats_utils.py?line=421'>422</a>\u001b[0m     \u001b[39mraise\u001b[39;00m \u001b[39mTypeError\u001b[39;00m(\u001b[39m\"\u001b[39m\u001b[39mlog likelihood not found in inference data object\u001b[39m\u001b[39m\"\u001b[39m)\n\u001b[0;32m    <a href='file:///c%3A/Users/Jaskier-PC/anaconda3/envs/Data_Anal/lib/site-packages/arviz/stats/stats_utils.py?line=422'>423</a>\u001b[0m \u001b[39mif\u001b[39;00m var_name \u001b[39mis\u001b[39;00m \u001b[39mNone\u001b[39;00m:\n\u001b[0;32m    <a href='file:///c%3A/Users/Jaskier-PC/anaconda3/envs/Data_Anal/lib/site-packages/arviz/stats/stats_utils.py?line=423'>424</a>\u001b[0m     var_names \u001b[39m=\u001b[39m \u001b[39mlist\u001b[39m(idata\u001b[39m.\u001b[39mlog_likelihood\u001b[39m.\u001b[39mdata_vars)\n",
      "\u001b[1;31mTypeError\u001b[0m: log likelihood not found in inference data object"
     ]
    }
   ],
   "source": [
    "compare_dict_1 = {'model_3': fit3,'model_4': fit4}\n",
    "compare_dict_2 = {'model_3': fit3_2,'model_4': fit4_2}\n",
    "\n",
    "model_compare_waic_1 = az.compare(compare_dict_1, ic = 'waic')\n",
    "\n",
    "print(model_compare_waic_1.head())\n",
    "az.plot_compare(model_compare_waic_1)\n",
    "plt.title('For data from model 1')\n",
    "\n",
    "model_compare_waic_2 = az.compare(compare_dict_2, ic = 'waic')\n",
    "\n",
    "print(model_compare_waic_2.head())\n",
    "az.plot_compare(model_compare_waic_2)\n",
    "plt.title('For data from model 2')\n"
   ]
  },
  {
   "cell_type": "code",
   "execution_count": 37,
   "metadata": {},
   "outputs": [
    {
     "ename": "TypeError",
     "evalue": "log likelihood not found in inference data object",
     "output_type": "error",
     "traceback": [
      "\u001b[1;31m---------------------------------------------------------------------------\u001b[0m",
      "\u001b[1;31mTypeError\u001b[0m                                 Traceback (most recent call last)",
      "\u001b[1;32mc:\\Users\\Jaskier-PC\\Desktop\\semestr8\\Data_analysis\\lab7\\lab7.ipynb Cell 9'\u001b[0m in \u001b[0;36m<cell line: 1>\u001b[1;34m()\u001b[0m\n\u001b[1;32m----> <a href='vscode-notebook-cell:/c%3A/Users/Jaskier-PC/Desktop/semestr8/Data_analysis/lab7/lab7.ipynb#ch0000010?line=0'>1</a>\u001b[0m model_compare_loo_1 \u001b[39m=\u001b[39m az\u001b[39m.\u001b[39;49mcompare(compare_dict_1, ic\u001b[39m=\u001b[39;49m\u001b[39m\"\u001b[39;49m\u001b[39mloo\u001b[39;49m\u001b[39m\"\u001b[39;49m, method\u001b[39m=\u001b[39;49m\u001b[39m\"\u001b[39;49m\u001b[39mstacking\u001b[39;49m\u001b[39m\"\u001b[39;49m, scale\u001b[39m=\u001b[39;49m\u001b[39m\"\u001b[39;49m\u001b[39mlog\u001b[39;49m\u001b[39m\"\u001b[39;49m)\n\u001b[0;32m      <a href='vscode-notebook-cell:/c%3A/Users/Jaskier-PC/Desktop/semestr8/Data_analysis/lab7/lab7.ipynb#ch0000010?line=2'>3</a>\u001b[0m \u001b[39mprint\u001b[39m(model_compare_loo_1\u001b[39m.\u001b[39mhead())\n\u001b[0;32m      <a href='vscode-notebook-cell:/c%3A/Users/Jaskier-PC/Desktop/semestr8/Data_analysis/lab7/lab7.ipynb#ch0000010?line=3'>4</a>\u001b[0m az\u001b[39m.\u001b[39mplot_compare(model_compare_loo_1)\n",
      "File \u001b[1;32m~\\anaconda3\\envs\\Data_Anal\\lib\\site-packages\\arviz\\stats\\stats.py:212\u001b[0m, in \u001b[0;36mcompare\u001b[1;34m(dataset_dict, ic, method, b_samples, alpha, seed, scale)\u001b[0m\n\u001b[0;32m    <a href='file:///c%3A/Users/Jaskier-PC/anaconda3/envs/Data_Anal/lib/site-packages/arviz/stats/stats.py?line=209'>210</a>\u001b[0m \u001b[39mfor\u001b[39;00m name, dataset \u001b[39min\u001b[39;00m dataset_dict\u001b[39m.\u001b[39mitems():\n\u001b[0;32m    <a href='file:///c%3A/Users/Jaskier-PC/anaconda3/envs/Data_Anal/lib/site-packages/arviz/stats/stats.py?line=210'>211</a>\u001b[0m     names\u001b[39m.\u001b[39mappend(name)\n\u001b[1;32m--> <a href='file:///c%3A/Users/Jaskier-PC/anaconda3/envs/Data_Anal/lib/site-packages/arviz/stats/stats.py?line=211'>212</a>\u001b[0m     ics \u001b[39m=\u001b[39m ics\u001b[39m.\u001b[39mappend([ic_func(dataset, pointwise\u001b[39m=\u001b[39;49m\u001b[39mTrue\u001b[39;49;00m, scale\u001b[39m=\u001b[39;49mscale)])\n\u001b[0;32m    <a href='file:///c%3A/Users/Jaskier-PC/anaconda3/envs/Data_Anal/lib/site-packages/arviz/stats/stats.py?line=212'>213</a>\u001b[0m ics\u001b[39m.\u001b[39mindex \u001b[39m=\u001b[39m names\n\u001b[0;32m    <a href='file:///c%3A/Users/Jaskier-PC/anaconda3/envs/Data_Anal/lib/site-packages/arviz/stats/stats.py?line=213'>214</a>\u001b[0m ics\u001b[39m.\u001b[39msort_values(by\u001b[39m=\u001b[39mic, inplace\u001b[39m=\u001b[39m\u001b[39mTrue\u001b[39;00m, ascending\u001b[39m=\u001b[39mascending)\n",
      "File \u001b[1;32m~\\anaconda3\\envs\\Data_Anal\\lib\\site-packages\\arviz\\stats\\stats.py:618\u001b[0m, in \u001b[0;36mloo\u001b[1;34m(data, pointwise, var_name, reff, scale)\u001b[0m\n\u001b[0;32m    <a href='file:///c%3A/Users/Jaskier-PC/anaconda3/envs/Data_Anal/lib/site-packages/arviz/stats/stats.py?line=553'>554</a>\u001b[0m \u001b[39m\"\"\"Compute Pareto-smoothed importance sampling leave-one-out cross-validation (PSIS-LOO-CV).\u001b[39;00m\n\u001b[0;32m    <a href='file:///c%3A/Users/Jaskier-PC/anaconda3/envs/Data_Anal/lib/site-packages/arviz/stats/stats.py?line=554'>555</a>\u001b[0m \n\u001b[0;32m    <a href='file:///c%3A/Users/Jaskier-PC/anaconda3/envs/Data_Anal/lib/site-packages/arviz/stats/stats.py?line=555'>556</a>\u001b[0m \u001b[39mEstimates the expected log pointwise predictive density (elpd) using Pareto-smoothed\u001b[39;00m\n\u001b[1;32m   (...)\u001b[0m\n\u001b[0;32m    <a href='file:///c%3A/Users/Jaskier-PC/anaconda3/envs/Data_Anal/lib/site-packages/arviz/stats/stats.py?line=614'>615</a>\u001b[0m \u001b[39m       ...: data_loo.loo_i\u001b[39;00m\n\u001b[0;32m    <a href='file:///c%3A/Users/Jaskier-PC/anaconda3/envs/Data_Anal/lib/site-packages/arviz/stats/stats.py?line=615'>616</a>\u001b[0m \u001b[39m\"\"\"\u001b[39;00m\n\u001b[0;32m    <a href='file:///c%3A/Users/Jaskier-PC/anaconda3/envs/Data_Anal/lib/site-packages/arviz/stats/stats.py?line=616'>617</a>\u001b[0m inference_data \u001b[39m=\u001b[39m convert_to_inference_data(data)\n\u001b[1;32m--> <a href='file:///c%3A/Users/Jaskier-PC/anaconda3/envs/Data_Anal/lib/site-packages/arviz/stats/stats.py?line=617'>618</a>\u001b[0m log_likelihood \u001b[39m=\u001b[39m _get_log_likelihood(inference_data, var_name\u001b[39m=\u001b[39;49mvar_name)\n\u001b[0;32m    <a href='file:///c%3A/Users/Jaskier-PC/anaconda3/envs/Data_Anal/lib/site-packages/arviz/stats/stats.py?line=618'>619</a>\u001b[0m pointwise \u001b[39m=\u001b[39m rcParams[\u001b[39m\"\u001b[39m\u001b[39mstats.ic_pointwise\u001b[39m\u001b[39m\"\u001b[39m] \u001b[39mif\u001b[39;00m pointwise \u001b[39mis\u001b[39;00m \u001b[39mNone\u001b[39;00m \u001b[39melse\u001b[39;00m pointwise\n\u001b[0;32m    <a href='file:///c%3A/Users/Jaskier-PC/anaconda3/envs/Data_Anal/lib/site-packages/arviz/stats/stats.py?line=620'>621</a>\u001b[0m log_likelihood \u001b[39m=\u001b[39m log_likelihood\u001b[39m.\u001b[39mstack(sample\u001b[39m=\u001b[39m(\u001b[39m\"\u001b[39m\u001b[39mchain\u001b[39m\u001b[39m\"\u001b[39m, \u001b[39m\"\u001b[39m\u001b[39mdraw\u001b[39m\u001b[39m\"\u001b[39m))\n",
      "File \u001b[1;32m~\\anaconda3\\envs\\Data_Anal\\lib\\site-packages\\arviz\\stats\\stats_utils.py:422\u001b[0m, in \u001b[0;36mget_log_likelihood\u001b[1;34m(idata, var_name)\u001b[0m\n\u001b[0;32m    <a href='file:///c%3A/Users/Jaskier-PC/anaconda3/envs/Data_Anal/lib/site-packages/arviz/stats/stats_utils.py?line=419'>420</a>\u001b[0m     \u001b[39mreturn\u001b[39;00m idata\u001b[39m.\u001b[39msample_stats\u001b[39m.\u001b[39mlog_likelihood\n\u001b[0;32m    <a href='file:///c%3A/Users/Jaskier-PC/anaconda3/envs/Data_Anal/lib/site-packages/arviz/stats/stats_utils.py?line=420'>421</a>\u001b[0m \u001b[39mif\u001b[39;00m \u001b[39mnot\u001b[39;00m \u001b[39mhasattr\u001b[39m(idata, \u001b[39m\"\u001b[39m\u001b[39mlog_likelihood\u001b[39m\u001b[39m\"\u001b[39m):\n\u001b[1;32m--> <a href='file:///c%3A/Users/Jaskier-PC/anaconda3/envs/Data_Anal/lib/site-packages/arviz/stats/stats_utils.py?line=421'>422</a>\u001b[0m     \u001b[39mraise\u001b[39;00m \u001b[39mTypeError\u001b[39;00m(\u001b[39m\"\u001b[39m\u001b[39mlog likelihood not found in inference data object\u001b[39m\u001b[39m\"\u001b[39m)\n\u001b[0;32m    <a href='file:///c%3A/Users/Jaskier-PC/anaconda3/envs/Data_Anal/lib/site-packages/arviz/stats/stats_utils.py?line=422'>423</a>\u001b[0m \u001b[39mif\u001b[39;00m var_name \u001b[39mis\u001b[39;00m \u001b[39mNone\u001b[39;00m:\n\u001b[0;32m    <a href='file:///c%3A/Users/Jaskier-PC/anaconda3/envs/Data_Anal/lib/site-packages/arviz/stats/stats_utils.py?line=423'>424</a>\u001b[0m     var_names \u001b[39m=\u001b[39m \u001b[39mlist\u001b[39m(idata\u001b[39m.\u001b[39mlog_likelihood\u001b[39m.\u001b[39mdata_vars)\n",
      "\u001b[1;31mTypeError\u001b[0m: log likelihood not found in inference data object"
     ]
    }
   ],
   "source": [
    "model_compare_loo_1 = az.compare(compare_dict_1, ic=\"loo\", method=\"stacking\", scale=\"log\")\n",
    "\n",
    "print(model_compare_loo_1.head())\n",
    "az.plot_compare(model_compare_loo_1)\n",
    "plt.title('For data from model 1')\n",
    "\n",
    "model_compare_loo_2 = az.compare(compare_dict_2, ic = 'loo')\n",
    "\n",
    "print(model_compare_loo_2.head())\n",
    "az.plot_compare(model_compare_loo_2)\n",
    "plt.title('For data from model 2')"
   ]
  },
  {
   "cell_type": "code",
   "execution_count": null,
   "metadata": {},
   "outputs": [],
   "source": []
  }
 ],
 "metadata": {
  "interpreter": {
   "hash": "10c80f81247242d5fb45de76ec3faa12a01e850165fc5b4a2d18bcf04ab48a79"
  },
  "kernelspec": {
   "display_name": "Python 3.9.10 ('Data_Anal')",
   "language": "python",
   "name": "python3"
  },
  "language_info": {
   "codemirror_mode": {
    "name": "ipython",
    "version": 3
   },
   "file_extension": ".py",
   "mimetype": "text/x-python",
   "name": "python",
   "nbconvert_exporter": "python",
   "pygments_lexer": "ipython3",
   "version": "3.9.10"
  },
  "orig_nbformat": 4
 },
 "nbformat": 4,
 "nbformat_minor": 2
}
