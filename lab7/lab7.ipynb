{
 "cells": [
  {
   "cell_type": "code",
   "execution_count": 16,
   "metadata": {},
   "outputs": [],
   "source": [
    "from cmdstanpy import CmdStanModel\n",
    "import arviz as az\n",
    "import numpy as np\n",
    "import matplotlib.pyplot as plt"
   ]
  },
  {
   "cell_type": "code",
   "execution_count": 17,
   "metadata": {},
   "outputs": [
    {
     "name": "stderr",
     "output_type": "stream",
     "text": [
      "INFO:cmdstanpy:found newer exe file, not recompiling\n",
      "INFO:cmdstanpy:found newer exe file, not recompiling\n",
      "INFO:cmdstanpy:found newer exe file, not recompiling\n",
      "INFO:cmdstanpy:found newer exe file, not recompiling\n",
      "INFO:cmdstanpy:found newer exe file, not recompiling\n"
     ]
    }
   ],
   "source": [
    "model1 = CmdStanModel(stan_file=r'C:\\Users\\Jaskier-PC\\Desktop\\semestr8\\Data_analysis\\lab7\\code_1.stan')\n",
    "model2 = CmdStanModel(stan_file=r'C:\\Users\\Jaskier-PC\\Desktop\\semestr8\\Data_analysis\\lab7\\code_2.stan')\n",
    "model3 = CmdStanModel(stan_file=r'C:\\Users\\Jaskier-PC\\Desktop\\semestr8\\Data_analysis\\lab7\\code_3.stan')\n",
    "model4 = CmdStanModel(stan_file=r'C:\\Users\\Jaskier-PC\\Desktop\\semestr8\\Data_analysis\\lab7\\code_4.stan')\n",
    "model5 = CmdStanModel(stan_file=r'C:\\Users\\Jaskier-PC\\Desktop\\semestr8\\Data_analysis\\lab7\\code_5.stan')"
   ]
  },
  {
   "cell_type": "code",
   "execution_count": 18,
   "metadata": {},
   "outputs": [],
   "source": [
    "F=7\n",
    "L=6\n",
    "N = (L+F)*100\n",
    "stan_data = {\n",
    "    \"N\":N,\n",
    "}"
   ]
  },
  {
   "cell_type": "code",
   "execution_count": 19,
   "metadata": {},
   "outputs": [
    {
     "name": "stderr",
     "output_type": "stream",
     "text": [
      "INFO:cmdstanpy:CmdStan start procesing\n",
      "chain 1 |\u001b[34m██████████\u001b[0m| 00:01 Sampling completed                      "
     ]
    },
    {
     "name": "stdout",
     "output_type": "stream",
     "text": [
      "                                                                                "
     ]
    },
    {
     "name": "stderr",
     "output_type": "stream",
     "text": [
      "\n",
      "INFO:cmdstanpy:CmdStan done processing.\n",
      "INFO:cmdstanpy:CmdStan start procesing\n"
     ]
    },
    {
     "name": "stdout",
     "output_type": "stream",
     "text": [
      "\n"
     ]
    },
    {
     "name": "stderr",
     "output_type": "stream",
     "text": [
      "chain 1 |\u001b[34m██████████\u001b[0m| 00:05 Sampling completed                      "
     ]
    },
    {
     "name": "stdout",
     "output_type": "stream",
     "text": [
      "                                                                                "
     ]
    },
    {
     "name": "stderr",
     "output_type": "stream",
     "text": [
      "\n",
      "INFO:cmdstanpy:CmdStan done processing.\n"
     ]
    },
    {
     "name": "stdout",
     "output_type": "stream",
     "text": [
      "\n"
     ]
    }
   ],
   "source": [
    "fit_1 = model1.sample(data={'N':N}, \n",
    "                            fixed_param=True, \n",
    "                            iter_sampling=1000, \n",
    "                            iter_warmup=0, \n",
    "                            chains = 1)\n",
    "\n",
    "fit_2 = model2.sample(data={'N':N}, \n",
    "                            fixed_param=True, \n",
    "                            iter_sampling=1000, \n",
    "                            iter_warmup=0, \n",
    "                            chains = 1)\n",
    "\n",
    "y1 = fit_1.stan_variable('y')\n",
    "y2 = fit_2.stan_variable('y')\n"
   ]
  },
  {
   "cell_type": "code",
   "execution_count": 26,
   "metadata": {},
   "outputs": [
    {
     "name": "stderr",
     "output_type": "stream",
     "text": [
      "INFO:cmdstanpy:CmdStan start procesing\n",
      "chain 1 |\u001b[34m██████████\u001b[0m| 00:02 Sampling completed                      "
     ]
    },
    {
     "name": "stdout",
     "output_type": "stream",
     "text": [
      "                                                                                "
     ]
    },
    {
     "name": "stderr",
     "output_type": "stream",
     "text": [
      "\n",
      "INFO:cmdstanpy:CmdStan done processing.\n"
     ]
    },
    {
     "name": "stdout",
     "output_type": "stream",
     "text": [
      "\n"
     ]
    },
    {
     "name": "stderr",
     "output_type": "stream",
     "text": [
      "INFO:cmdstanpy:CmdStan start procesing\n",
      "chain 1 |\u001b[34m██████████\u001b[0m| 00:03 Sampling completed                      "
     ]
    },
    {
     "name": "stdout",
     "output_type": "stream",
     "text": [
      "                                                                                "
     ]
    },
    {
     "name": "stderr",
     "output_type": "stream",
     "text": [
      "\n",
      "INFO:cmdstanpy:CmdStan done processing.\n"
     ]
    },
    {
     "name": "stdout",
     "output_type": "stream",
     "text": [
      "\n"
     ]
    }
   ],
   "source": [
    "fit_3 = model3.sample(data={'N':N, 'y':y1[0]} ,\n",
    "                            fixed_param=True, \n",
    "                            iter_sampling=1000, \n",
    "                            iter_warmup=0, \n",
    "                            chains = 1)\n",
    "\n",
    "fit_4 = model4.sample(data={'N':N, 'y':y1[0]} ,\n",
    "                            fixed_param=True, \n",
    "                            iter_sampling=1000, \n",
    "                            iter_warmup=0, \n",
    "                            chains = 1)"
   ]
  },
  {
   "cell_type": "markdown",
   "metadata": {},
   "source": [
    "exercise 2"
   ]
  },
  {
   "cell_type": "code",
   "execution_count": 27,
   "metadata": {},
   "outputs": [
    {
     "ename": "TypeError",
     "evalue": "log likelihood not found in inference data object",
     "output_type": "error",
     "traceback": [
      "\u001b[1;31m---------------------------------------------------------------------------\u001b[0m",
      "\u001b[1;31mTypeError\u001b[0m                                 Traceback (most recent call last)",
      "\u001b[1;32mc:\\Users\\Jaskier-PC\\Desktop\\semestr8\\Data_analysis\\lab7\\lab7.ipynb Cell 7'\u001b[0m in \u001b[0;36m<cell line: 2>\u001b[1;34m()\u001b[0m\n\u001b[0;32m      <a href='vscode-notebook-cell:/c%3A/Users/Jaskier-PC/Desktop/semestr8/Data_analysis/lab7/lab7.ipynb#ch0000006?line=0'>1</a>\u001b[0m compare_dict \u001b[39m=\u001b[39m {\u001b[39m'\u001b[39m\u001b[39mfit_3\u001b[39m\u001b[39m'\u001b[39m: fit_3, \u001b[39m'\u001b[39m\u001b[39mfit_4\u001b[39m\u001b[39m'\u001b[39m: fit_4}\n\u001b[1;32m----> <a href='vscode-notebook-cell:/c%3A/Users/Jaskier-PC/Desktop/semestr8/Data_analysis/lab7/lab7.ipynb#ch0000006?line=1'>2</a>\u001b[0m loo_compare \u001b[39m=\u001b[39m az\u001b[39m.\u001b[39;49mcompare(compare_dict, ic\u001b[39m=\u001b[39;49m\u001b[39m\"\u001b[39;49m\u001b[39mloo\u001b[39;49m\u001b[39m\"\u001b[39;49m)\n",
      "File \u001b[1;32mc:\\Users\\Jaskier-PC\\anaconda3\\envs\\Data_Anal\\lib\\site-packages\\arviz\\stats\\stats.py:212\u001b[0m, in \u001b[0;36mcompare\u001b[1;34m(dataset_dict, ic, method, b_samples, alpha, seed, scale)\u001b[0m\n\u001b[0;32m    <a href='file:///c%3A/Users/Jaskier-PC/anaconda3/envs/Data_Anal/lib/site-packages/arviz/stats/stats.py?line=209'>210</a>\u001b[0m \u001b[39mfor\u001b[39;00m name, dataset \u001b[39min\u001b[39;00m dataset_dict\u001b[39m.\u001b[39mitems():\n\u001b[0;32m    <a href='file:///c%3A/Users/Jaskier-PC/anaconda3/envs/Data_Anal/lib/site-packages/arviz/stats/stats.py?line=210'>211</a>\u001b[0m     names\u001b[39m.\u001b[39mappend(name)\n\u001b[1;32m--> <a href='file:///c%3A/Users/Jaskier-PC/anaconda3/envs/Data_Anal/lib/site-packages/arviz/stats/stats.py?line=211'>212</a>\u001b[0m     ics \u001b[39m=\u001b[39m ics\u001b[39m.\u001b[39mappend([ic_func(dataset, pointwise\u001b[39m=\u001b[39;49m\u001b[39mTrue\u001b[39;49;00m, scale\u001b[39m=\u001b[39;49mscale)])\n\u001b[0;32m    <a href='file:///c%3A/Users/Jaskier-PC/anaconda3/envs/Data_Anal/lib/site-packages/arviz/stats/stats.py?line=212'>213</a>\u001b[0m ics\u001b[39m.\u001b[39mindex \u001b[39m=\u001b[39m names\n\u001b[0;32m    <a href='file:///c%3A/Users/Jaskier-PC/anaconda3/envs/Data_Anal/lib/site-packages/arviz/stats/stats.py?line=213'>214</a>\u001b[0m ics\u001b[39m.\u001b[39msort_values(by\u001b[39m=\u001b[39mic, inplace\u001b[39m=\u001b[39m\u001b[39mTrue\u001b[39;00m, ascending\u001b[39m=\u001b[39mascending)\n",
      "File \u001b[1;32mc:\\Users\\Jaskier-PC\\anaconda3\\envs\\Data_Anal\\lib\\site-packages\\arviz\\stats\\stats.py:618\u001b[0m, in \u001b[0;36mloo\u001b[1;34m(data, pointwise, var_name, reff, scale)\u001b[0m\n\u001b[0;32m    <a href='file:///c%3A/Users/Jaskier-PC/anaconda3/envs/Data_Anal/lib/site-packages/arviz/stats/stats.py?line=553'>554</a>\u001b[0m \u001b[39m\"\"\"Compute Pareto-smoothed importance sampling leave-one-out cross-validation (PSIS-LOO-CV).\u001b[39;00m\n\u001b[0;32m    <a href='file:///c%3A/Users/Jaskier-PC/anaconda3/envs/Data_Anal/lib/site-packages/arviz/stats/stats.py?line=554'>555</a>\u001b[0m \n\u001b[0;32m    <a href='file:///c%3A/Users/Jaskier-PC/anaconda3/envs/Data_Anal/lib/site-packages/arviz/stats/stats.py?line=555'>556</a>\u001b[0m \u001b[39mEstimates the expected log pointwise predictive density (elpd) using Pareto-smoothed\u001b[39;00m\n\u001b[1;32m   (...)\u001b[0m\n\u001b[0;32m    <a href='file:///c%3A/Users/Jaskier-PC/anaconda3/envs/Data_Anal/lib/site-packages/arviz/stats/stats.py?line=614'>615</a>\u001b[0m \u001b[39m       ...: data_loo.loo_i\u001b[39;00m\n\u001b[0;32m    <a href='file:///c%3A/Users/Jaskier-PC/anaconda3/envs/Data_Anal/lib/site-packages/arviz/stats/stats.py?line=615'>616</a>\u001b[0m \u001b[39m\"\"\"\u001b[39;00m\n\u001b[0;32m    <a href='file:///c%3A/Users/Jaskier-PC/anaconda3/envs/Data_Anal/lib/site-packages/arviz/stats/stats.py?line=616'>617</a>\u001b[0m inference_data \u001b[39m=\u001b[39m convert_to_inference_data(data)\n\u001b[1;32m--> <a href='file:///c%3A/Users/Jaskier-PC/anaconda3/envs/Data_Anal/lib/site-packages/arviz/stats/stats.py?line=617'>618</a>\u001b[0m log_likelihood \u001b[39m=\u001b[39m _get_log_likelihood(inference_data, var_name\u001b[39m=\u001b[39;49mvar_name)\n\u001b[0;32m    <a href='file:///c%3A/Users/Jaskier-PC/anaconda3/envs/Data_Anal/lib/site-packages/arviz/stats/stats.py?line=618'>619</a>\u001b[0m pointwise \u001b[39m=\u001b[39m rcParams[\u001b[39m\"\u001b[39m\u001b[39mstats.ic_pointwise\u001b[39m\u001b[39m\"\u001b[39m] \u001b[39mif\u001b[39;00m pointwise \u001b[39mis\u001b[39;00m \u001b[39mNone\u001b[39;00m \u001b[39melse\u001b[39;00m pointwise\n\u001b[0;32m    <a href='file:///c%3A/Users/Jaskier-PC/anaconda3/envs/Data_Anal/lib/site-packages/arviz/stats/stats.py?line=620'>621</a>\u001b[0m log_likelihood \u001b[39m=\u001b[39m log_likelihood\u001b[39m.\u001b[39mstack(sample\u001b[39m=\u001b[39m(\u001b[39m\"\u001b[39m\u001b[39mchain\u001b[39m\u001b[39m\"\u001b[39m, \u001b[39m\"\u001b[39m\u001b[39mdraw\u001b[39m\u001b[39m\"\u001b[39m))\n",
      "File \u001b[1;32mc:\\Users\\Jaskier-PC\\anaconda3\\envs\\Data_Anal\\lib\\site-packages\\arviz\\stats\\stats_utils.py:422\u001b[0m, in \u001b[0;36mget_log_likelihood\u001b[1;34m(idata, var_name)\u001b[0m\n\u001b[0;32m    <a href='file:///c%3A/Users/Jaskier-PC/anaconda3/envs/Data_Anal/lib/site-packages/arviz/stats/stats_utils.py?line=419'>420</a>\u001b[0m     \u001b[39mreturn\u001b[39;00m idata\u001b[39m.\u001b[39msample_stats\u001b[39m.\u001b[39mlog_likelihood\n\u001b[0;32m    <a href='file:///c%3A/Users/Jaskier-PC/anaconda3/envs/Data_Anal/lib/site-packages/arviz/stats/stats_utils.py?line=420'>421</a>\u001b[0m \u001b[39mif\u001b[39;00m \u001b[39mnot\u001b[39;00m \u001b[39mhasattr\u001b[39m(idata, \u001b[39m\"\u001b[39m\u001b[39mlog_likelihood\u001b[39m\u001b[39m\"\u001b[39m):\n\u001b[1;32m--> <a href='file:///c%3A/Users/Jaskier-PC/anaconda3/envs/Data_Anal/lib/site-packages/arviz/stats/stats_utils.py?line=421'>422</a>\u001b[0m     \u001b[39mraise\u001b[39;00m \u001b[39mTypeError\u001b[39;00m(\u001b[39m\"\u001b[39m\u001b[39mlog likelihood not found in inference data object\u001b[39m\u001b[39m\"\u001b[39m)\n\u001b[0;32m    <a href='file:///c%3A/Users/Jaskier-PC/anaconda3/envs/Data_Anal/lib/site-packages/arviz/stats/stats_utils.py?line=422'>423</a>\u001b[0m \u001b[39mif\u001b[39;00m var_name \u001b[39mis\u001b[39;00m \u001b[39mNone\u001b[39;00m:\n\u001b[0;32m    <a href='file:///c%3A/Users/Jaskier-PC/anaconda3/envs/Data_Anal/lib/site-packages/arviz/stats/stats_utils.py?line=423'>424</a>\u001b[0m     var_names \u001b[39m=\u001b[39m \u001b[39mlist\u001b[39m(idata\u001b[39m.\u001b[39mlog_likelihood\u001b[39m.\u001b[39mdata_vars)\n",
      "\u001b[1;31mTypeError\u001b[0m: log likelihood not found in inference data object"
     ]
    }
   ],
   "source": [
    "compare_dict = {'fit_3': fit_3, 'fit_4': fit_4}\n",
    "loo_compare = az.compare(compare_dict, ic=\"loo\")\n",
    "#waic_compare = az.compare(compare_dict, ic=\"waic\")"
   ]
  }
 ],
 "metadata": {
  "interpreter": {
   "hash": "66a86921bef05d61958386a4ffa0dfc3e210be73580c6548b36e779281327265"
  },
  "kernelspec": {
   "display_name": "Python 3.9.10 ('Data_Anal')",
   "language": "python",
   "name": "python3"
  },
  "language_info": {
   "codemirror_mode": {
    "name": "ipython",
    "version": 3
   },
   "file_extension": ".py",
   "mimetype": "text/x-python",
   "name": "python",
   "nbconvert_exporter": "python",
   "pygments_lexer": "ipython3",
   "version": "3.9.10"
  },
  "orig_nbformat": 4
 },
 "nbformat": 4,
 "nbformat_minor": 2
}
